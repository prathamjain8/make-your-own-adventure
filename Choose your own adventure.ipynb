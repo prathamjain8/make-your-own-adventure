{
 "cells": [
  {
   "cell_type": "code",
   "execution_count": 1,
   "id": "e27ae414",
   "metadata": {},
   "outputs": [
    {
     "name": "stdout",
     "output_type": "stream",
     "text": [
      "Enter your name: Pratham\n",
      "Welcome Pratham to this adventure\n",
      "\n",
      "You are on a dirt road, it has come to an end you can go left or right. Which way do you wanna go (left/right)?: right\n",
      "You come to a bridge, it looks wobbly, do you want to cross it or head back (cross/back)?: cross\n",
      "You crossed the bridge and meet a stranger. Do you want to talk to them (y/n)?: y\n",
      "You talked to the stanger and they give you gold. you Win🎉🎉🎉\n",
      "Thank you for trying Pratham\n"
     ]
    }
   ],
   "source": [
    "name = input(\"Enter your name: \")\n",
    "print(\"Welcome\",name,\"to this adventure\")\n",
    "print()\n",
    "answer = input(\"You are on a dirt road, it has come to an end you can go left or right. Which way do you wanna go (left/right)?: \").lower()\n",
    "if answer == \"left\":\n",
    "    \n",
    "    answer = input(\"You come to a river, you can walk around it or swim across it. What do you want to walk or to swim (walk/swim)?: \").lower()\n",
    "    if answer ==\"swim\":\n",
    "        print(\"You swim across and were eaten by an aligator\")\n",
    "    elif answer ==\"walk\":\n",
    "        print(\"You walked for many miles, ran out of water and lost the game\")\n",
    "    else:\n",
    "        print(\"Not a valid option. You loose\")\n",
    "        \n",
    "elif answer ==\"right\":\n",
    "    \n",
    "    answer = input(\"You come to a bridge, it looks wobbly, do you want to cross it or head back (cross/back)?: \").lower()\n",
    "    if answer ==\"cross\":\n",
    "        \n",
    "        answer = input(\"You crossed the bridge and meet a stranger. Do you want to talk to them (y/n)?: \").lower()\n",
    "        if answer == 'y':\n",
    "            print(\"You talked to the stanger and they give you gold. you Win🎉🎉🎉\")\n",
    "        elif answer == 'n':\n",
    "            print(\"You ignore the stranger and they are offended and you loose\")\n",
    "        else:\n",
    "            print(\"Not a valid option. You loose\")\n",
    "            \n",
    "    elif answer ==\"back\":\n",
    "        print(\"You go back and loose\")\n",
    "    else:\n",
    "        print(\"Not a valid option. You loose\")\n",
    "else:\n",
    "    print(\"Not a valid option. You loose\")\n",
    "    \n",
    "print(\"Thank you for trying\", name)"
   ]
  },
  {
   "cell_type": "code",
   "execution_count": null,
   "id": "9922efec",
   "metadata": {},
   "outputs": [],
   "source": []
  }
 ],
 "metadata": {
  "kernelspec": {
   "display_name": "Python 3 (ipykernel)",
   "language": "python",
   "name": "python3"
  },
  "language_info": {
   "codemirror_mode": {
    "name": "ipython",
    "version": 3
   },
   "file_extension": ".py",
   "mimetype": "text/x-python",
   "name": "python",
   "nbconvert_exporter": "python",
   "pygments_lexer": "ipython3",
   "version": "3.11.5"
  }
 },
 "nbformat": 4,
 "nbformat_minor": 5
}
